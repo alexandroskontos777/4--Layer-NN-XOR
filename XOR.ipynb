{
 "cells": [
  {
   "cell_type": "code",
   "execution_count": 1,
   "id": "2b58bafb",
   "metadata": {},
   "outputs": [],
   "source": [
    "import numpy as np"
   ]
  },
  {
   "cell_type": "code",
   "execution_count": 2,
   "id": "f6f444f7",
   "metadata": {},
   "outputs": [],
   "source": [
    "X = np.array([[0, 0, 1, 1],[0, 1, 0, 1]])\n",
    "Y = np.array([[0,1,1,0]])\n",
    "# 1 hidden layer with 4 hidden units"
   ]
  },
  {
   "cell_type": "code",
   "execution_count": 3,
   "id": "d18a419d",
   "metadata": {},
   "outputs": [],
   "source": [
    "def sigmoid(z):\n",
    "    s = 1/(1 + np.exp(-z))\n",
    "    return s  "
   ]
  },
  {
   "cell_type": "code",
   "execution_count": 4,
   "id": "3dd99619",
   "metadata": {},
   "outputs": [],
   "source": [
    "def layers_size(X, Y):\n",
    "    n_x = X.shape[0]\n",
    "    n_h = 4\n",
    "    n_y = Y.shape[0]\n",
    "    \n",
    "    return n_x, n_h, n_y"
   ]
  },
  {
   "cell_type": "code",
   "execution_count": 5,
   "id": "f091e9f3",
   "metadata": {},
   "outputs": [],
   "source": [
    "n_x, n_h, n_y = layers_size(X, Y)"
   ]
  },
  {
   "cell_type": "code",
   "execution_count": 6,
   "id": "d21f3bd4",
   "metadata": {},
   "outputs": [],
   "source": [
    "def initialize_parameters(n_x, n_h, n_y):\n",
    "    W1 = np.random.randn(n_h,n_x)\n",
    "    b1 = np.zeros((n_h,1))\n",
    "    W2 = np.random.rand(n_y,n_h)\n",
    "    b2 = np.zeros((n_y,1))\n",
    "    \n",
    "    parameters = {\"W1\":W1,\n",
    "                  \"b1\":b1,\n",
    "                  \"W2\":W2,\n",
    "                  \"b2\":b2}\n",
    "    return parameters"
   ]
  },
  {
   "cell_type": "code",
   "execution_count": 7,
   "id": "0fcb5cf9",
   "metadata": {},
   "outputs": [],
   "source": [
    "parameters = initialize_parameters(n_x, n_h, n_y)"
   ]
  },
  {
   "cell_type": "code",
   "execution_count": 8,
   "id": "e6ee62a7",
   "metadata": {
    "scrolled": true
   },
   "outputs": [
    {
     "name": "stdout",
     "output_type": "stream",
     "text": [
      "{'W1': array([[-1.54670982,  1.87891854],\n",
      "       [ 1.03532024,  0.98681585],\n",
      "       [-2.5428616 , -0.7064708 ],\n",
      "       [ 0.16070176, -1.20250224]]), 'b1': array([[0.],\n",
      "       [0.],\n",
      "       [0.],\n",
      "       [0.]]), 'W2': array([[0.31998153, 0.73010562, 0.55639206, 0.05663578]]), 'b2': array([[0.]])}\n"
     ]
    }
   ],
   "source": [
    "print(str(parameters))"
   ]
  },
  {
   "cell_type": "code",
   "execution_count": 9,
   "id": "afb38cfd",
   "metadata": {},
   "outputs": [],
   "source": [
    "def forward_prop(X, Y, parameters):\n",
    "    W1 = parameters[\"W1\"]\n",
    "    b1 = parameters[\"b1\"]\n",
    "    W2 = parameters[\"W2\"]\n",
    "    b2 = parameters[\"b2\"]\n",
    "    \n",
    "    Z1 = np.dot(W1,X) + b1\n",
    "    A1 = np.tanh(Z1) #tanh activation fuction\n",
    "    Z2 = np.dot(W2,A1) + b2\n",
    "    A2 = sigmoid(Z2) # sigmoid activation fuction\n",
    "    \n",
    "    cashe = {\"Z1\":Z1,\n",
    "             \"A1\":A1,\n",
    "             \"Z2\":Z2,\n",
    "             \"A2\":A2,\n",
    "             }\n",
    "    return A2, cashe"
   ]
  },
  {
   "cell_type": "code",
   "execution_count": 10,
   "id": "5639cf8a",
   "metadata": {},
   "outputs": [],
   "source": [
    "A2, cashe = forward_prop(X, Y, parameters)"
   ]
  },
  {
   "cell_type": "code",
   "execution_count": 11,
   "id": "0fca202f",
   "metadata": {},
   "outputs": [
    {
     "name": "stdout",
     "output_type": "stream",
     "text": [
      "[[0.5        0.61575062 0.43384944 0.55198626]]\n"
     ]
    }
   ],
   "source": [
    "print(str(cashe[\"A2\"]))    #ο στόχος είναι να προσεγγίσει το [0, 1, 1, 0]"
   ]
  },
  {
   "cell_type": "code",
   "execution_count": 12,
   "id": "e37efe9d",
   "metadata": {},
   "outputs": [],
   "source": [
    "def compute_cost(A2, Y):\n",
    "    m = X.shape[1]\n",
    "    \n",
    "    A2 = cashe[\"A2\"]\n",
    "    \n",
    "    cost = (-1/m)*np.sum(np.dot(Y,np.log(A2).T)+np.dot((1-Y),np.log(1-A2).T))\n",
    "    \n",
    "    cost = np.squeeze(cost)\n",
    "    \n",
    "    return cost\n",
    "    \n",
    "    "
   ]
  },
  {
   "cell_type": "code",
   "execution_count": 13,
   "id": "e02e47ba",
   "metadata": {},
   "outputs": [],
   "source": [
    "cost = compute_cost(A2, Y)"
   ]
  },
  {
   "cell_type": "code",
   "execution_count": 14,
   "id": "860536b2",
   "metadata": {},
   "outputs": [
    {
     "name": "stdout",
     "output_type": "stream",
     "text": [
      "0.7040123770069366\n"
     ]
    }
   ],
   "source": [
    "print(cost)"
   ]
  },
  {
   "cell_type": "code",
   "execution_count": 15,
   "id": "74afa90e",
   "metadata": {},
   "outputs": [],
   "source": [
    "def backward_prop(parameters, cashe, X, Y):\n",
    "    m = X.shape[1]\n",
    "    W1 = parameters[\"W1\"]\n",
    "    b1 = parameters[\"b1\"]\n",
    "    W2 = parameters[\"W2\"]\n",
    "    b2 = parameters[\"b2\"]\n",
    "    \n",
    "    Z1 = cashe[\"Z1\"]\n",
    "    A1 = cashe[\"A1\"]\n",
    "    Z2 = cashe[\"Z2\"]\n",
    "    A2 = cashe[\"A2\"]\n",
    "    \n",
    "    dZ2 = A2 - Y\n",
    "    dW2 = (1/m) * np.dot(dZ2,A1.T)\n",
    "    db2 = (1/m) * np.sum(dZ2, axis=1,keepdims = True)\n",
    "    dZ1 = np.dot(W2.T,dZ2) * (1 - np.power(A1,2))\n",
    "    dW1 = (1/m) * np.dot(dZ1, X.T)\n",
    "    db1 = (1/m) * np.sum(dZ1, axis=1,keepdims = True)\n",
    "    \n",
    "    grads = {\"dW1\": dW1,\n",
    "             \"db1\": db1,\n",
    "             \"dW2\": dW2,\n",
    "             \"db2\": db2}\n",
    "    \n",
    "    return grads\n",
    "    \n",
    "    \n",
    "    "
   ]
  },
  {
   "cell_type": "code",
   "execution_count": 16,
   "id": "45c6bff5",
   "metadata": {},
   "outputs": [],
   "source": [
    "grads = backward_prop(parameters, cashe, X, Y)"
   ]
  },
  {
   "cell_type": "code",
   "execution_count": 17,
   "id": "d34fc3e6",
   "metadata": {},
   "outputs": [],
   "source": [
    "def update_parameters(parameters, grads, learning_rate):\n",
    "    \n",
    "    W1 = parameters[\"W1\"]\n",
    "    b1 = parameters[\"b1\"]\n",
    "    W2 = parameters[\"W2\"]\n",
    "    b2 = parameters[\"b2\"]\n",
    "    \n",
    "    \n",
    "    dW1 = grads[\"dW1\"]\n",
    "    db1 = grads[\"db1\"]\n",
    "    dW2 = grads[\"dW2\"]\n",
    "    db2 = grads[\"db2\"]\n",
    "    \n",
    "    W1 = W1 - (learning_rate) * dW1\n",
    "    b1 = b1 - (learning_rate) * db1\n",
    "    W2 = W2 - (learning_rate) * dW2\n",
    "    b2 = b2 - (learning_rate) * db2\n",
    "    \n",
    "    parameters = {\"W1\":W1,\n",
    "                  \"b1\":b1,\n",
    "                  \"W2\":W2,\n",
    "                  \"b2\":b2}\n",
    "    \n",
    "    return parameters"
   ]
  },
  {
   "cell_type": "code",
   "execution_count": 18,
   "id": "182f410b",
   "metadata": {},
   "outputs": [],
   "source": [
    "parameters = update_parameters(parameters, grads, 0.01)"
   ]
  },
  {
   "cell_type": "code",
   "execution_count": 19,
   "id": "cf59f460",
   "metadata": {},
   "outputs": [],
   "source": [
    "def nn_model(X, Y, n_h, learning_rate, num_iterations):    \n",
    "    n_x = layers_size(X, Y)[0]\n",
    "    n_y = layers_size(X, Y)[2]\n",
    "    \n",
    "    parameters = initialize_parameters(n_x, n_h, n_y)\n",
    "    W1 = parameters[\"W1\"]\n",
    "    b1 = parameters[\"b1\"]\n",
    "    W2 = parameters[\"W2\"]\n",
    "    b2 = parameters[\"b2\"]\n",
    "    m = X.shape[1]\n",
    "    \n",
    "    \n",
    "    # loop, gradient descent\n",
    "    \n",
    "    for i in range(num_iterations):                       \n",
    "        A2, cashe = forward_prop(X, Y, parameters)\n",
    "          \n",
    "        cost = compute_cost(A2, Y)\n",
    "          \n",
    "        grads = backward_prop(parameters, cashe, X, Y)\n",
    "        \n",
    "        parameters = update_parameters(parameters, grads, learning_rate)\n",
    "        \n",
    "        if i % 1000 == 0:\n",
    "            print(\"cost = \" + str(cost),\"A2 = \" + str(A2))\n",
    "        \n",
    "            \n",
    "    return parameters       \n",
    "        \n",
    "        \n",
    "        \n",
    "        \n",
    "    "
   ]
  },
  {
   "cell_type": "code",
   "execution_count": 20,
   "id": "ba254c32",
   "metadata": {},
   "outputs": [
    {
     "name": "stdout",
     "output_type": "stream",
     "text": [
      "cost = 0.7040123770069366 A2 = [[0.5        0.45546396 0.82041858 0.74057981]]\n",
      "cost = 0.7040123770069366 A2 = [[0.25804307 0.61665484 0.7576959  0.3493509 ]]\n",
      "cost = 0.7040123770069366 A2 = [[0.12445735 0.76144942 0.83829421 0.2449657 ]]\n",
      "cost = 0.7040123770069366 A2 = [[0.06305363 0.84651542 0.88689872 0.17421535]]\n",
      "cost = 0.7040123770069366 A2 = [[0.03742793 0.89248984 0.915094   0.12981571]]\n",
      "cost = 0.7040123770069366 A2 = [[0.02503889 0.91900929 0.93286493 0.1016062 ]]\n",
      "cost = 0.7040123770069366 A2 = [[0.01816417 0.93569693 0.94487179 0.08273473]]\n",
      "cost = 0.7040123770069366 A2 = [[0.0139382  0.94698022 0.95343387 0.06943878]]\n",
      "cost = 0.7040123770069366 A2 = [[0.01113775 0.95504566 0.95980363 0.05965195]]\n",
      "cost = 0.7040123770069366 A2 = [[0.00917421 0.96106501 0.96470519 0.05218652]]\n"
     ]
    }
   ],
   "source": [
    "parameters = nn_model(X, Y, 4, 0.01, 10000) # το cost θα έπρεπε να πέφτει. Το Α2(activation του last layer)\n",
    "# τουλάχιστον προσεγγιζει το output που θελω"
   ]
  },
  {
   "cell_type": "code",
   "execution_count": 21,
   "id": "1336adef",
   "metadata": {},
   "outputs": [],
   "source": [
    "A2, cashe = forward_prop(X, Y, parameters)"
   ]
  },
  {
   "cell_type": "code",
   "execution_count": 22,
   "id": "ece79a61",
   "metadata": {},
   "outputs": [
    {
     "name": "stdout",
     "output_type": "stream",
     "text": [
      "[[0.00773619 0.96571264 0.96858157 0.04632411]]\n"
     ]
    }
   ],
   "source": [
    "print(A2)\n"
   ]
  },
  {
   "cell_type": "code",
   "execution_count": 23,
   "id": "7e9e6793",
   "metadata": {},
   "outputs": [
    {
     "name": "stdout",
     "output_type": "stream",
     "text": [
      "[[0 1 1 0]]\n"
     ]
    }
   ],
   "source": [
    "print(str(Y))"
   ]
  },
  {
   "cell_type": "code",
   "execution_count": 24,
   "id": "221dbf09",
   "metadata": {},
   "outputs": [],
   "source": [
    "cost = compute_cost(A2, Y)"
   ]
  },
  {
   "cell_type": "code",
   "execution_count": 25,
   "id": "9340d36a",
   "metadata": {},
   "outputs": [
    {
     "name": "stdout",
     "output_type": "stream",
     "text": [
      "0.030502303692236003\n"
     ]
    }
   ],
   "source": [
    "print(cost)"
   ]
  },
  {
   "cell_type": "code",
   "execution_count": null,
   "id": "8b65ad74",
   "metadata": {},
   "outputs": [],
   "source": []
  },
  {
   "cell_type": "code",
   "execution_count": null,
   "id": "a1c19f9b",
   "metadata": {},
   "outputs": [],
   "source": []
  },
  {
   "cell_type": "code",
   "execution_count": null,
   "id": "a0e582e3",
   "metadata": {},
   "outputs": [],
   "source": []
  }
 ],
 "metadata": {
  "kernelspec": {
   "display_name": "Python 3 (ipykernel)",
   "language": "python",
   "name": "python3"
  },
  "language_info": {
   "codemirror_mode": {
    "name": "ipython",
    "version": 3
   },
   "file_extension": ".py",
   "mimetype": "text/x-python",
   "name": "python",
   "nbconvert_exporter": "python",
   "pygments_lexer": "ipython3",
   "version": "3.10.0"
  }
 },
 "nbformat": 4,
 "nbformat_minor": 5
}
