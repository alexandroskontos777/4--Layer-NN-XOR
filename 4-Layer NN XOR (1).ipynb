{
 "cells": [
  {
   "cell_type": "code",
   "execution_count": 1,
   "id": "a8fd60ae",
   "metadata": {},
   "outputs": [],
   "source": [
    "       # Fitting Data of XOR with a 4-layer Neural Network"
   ]
  },
  {
   "cell_type": "code",
   "execution_count": 2,
   "id": "732b1d22",
   "metadata": {},
   "outputs": [],
   "source": [
    "import numpy as np"
   ]
  },
  {
   "cell_type": "code",
   "execution_count": 3,
   "id": "531371ea",
   "metadata": {},
   "outputs": [],
   "source": [
    "X = np.array([[0, 0, 1, 1],[0, 1, 0, 1]])\n",
    "Y = np.array([[0,1,1,0]])"
   ]
  },
  {
   "cell_type": "code",
   "execution_count": 4,
   "id": "3b64aada",
   "metadata": {},
   "outputs": [],
   "source": [
    "layer_dims = [2, 4, 3, 3, 1]"
   ]
  },
  {
   "cell_type": "code",
   "execution_count": 5,
   "id": "6b407da3",
   "metadata": {},
   "outputs": [],
   "source": [
    "def initialize_parameters_deep(layer_dims):\n",
    "    y = len(layer_dims)\n",
    "    L = y - 1\n",
    "    parameters = {}\n",
    "    \n",
    "    for l in range(L):\n",
    "        parameters[\"W\" + str(l+1)] = np.random.rand(layer_dims[l+1],layer_dims[l])\n",
    "        parameters[\"b\" + str(l+1)] = np.zeros((layer_dims[l+1],1))\n",
    "     \n",
    "    return parameters    "
   ]
  },
  {
   "cell_type": "code",
   "execution_count": 6,
   "id": "1e4140a8",
   "metadata": {
    "scrolled": true
   },
   "outputs": [],
   "source": [
    "parameters = initialize_parameters_deep(layer_dims)"
   ]
  },
  {
   "cell_type": "code",
   "execution_count": 7,
   "id": "3cda32a5",
   "metadata": {},
   "outputs": [
    {
     "name": "stdout",
     "output_type": "stream",
     "text": [
      "{'W1': array([[0.91213289, 0.68107272],\n",
      "       [0.20965769, 0.00558201],\n",
      "       [0.61977661, 0.85385243],\n",
      "       [0.02141096, 0.78165356]]), 'b1': array([[0.],\n",
      "       [0.],\n",
      "       [0.],\n",
      "       [0.]]), 'W2': array([[0.52603232, 0.48061803, 0.02855018, 0.10841869],\n",
      "       [0.54930832, 0.90060257, 0.26752807, 0.39335893],\n",
      "       [0.05105417, 0.22291466, 0.62026301, 0.58003125]]), 'b2': array([[0.],\n",
      "       [0.],\n",
      "       [0.]]), 'W3': array([[0.3558408 , 0.19587885, 0.01464743],\n",
      "       [0.09251784, 0.2772128 , 0.94503587],\n",
      "       [0.66074648, 0.91956748, 0.79349694]]), 'b3': array([[0.],\n",
      "       [0.],\n",
      "       [0.]]), 'W4': array([[0.52105509, 0.96358723, 0.08792131]]), 'b4': array([[0.]])}\n"
     ]
    }
   ],
   "source": [
    "print(parameters)"
   ]
  },
  {
   "cell_type": "code",
   "execution_count": 8,
   "id": "c3d95de0",
   "metadata": {},
   "outputs": [],
   "source": [
    "def linear_forward(A_prev, W, b):\n",
    "    Z = np.dot(W,A_prev) + b\n",
    "    \n",
    "    linear_cache = (A_prev, W, b)\n",
    "    return Z, linear_cache"
   ]
  },
  {
   "cell_type": "code",
   "execution_count": 9,
   "id": "9381081a",
   "metadata": {},
   "outputs": [],
   "source": [
    "def sigmoid(Z):\n",
    "    \n",
    "    A = 1/(1+np.exp(-Z))\n",
    "    cache = Z\n",
    "    \n",
    "    return A, cache"
   ]
  },
  {
   "cell_type": "code",
   "execution_count": 10,
   "id": "46ca521d",
   "metadata": {},
   "outputs": [],
   "source": [
    "def relu(Z):\n",
    "    \n",
    "    A = np.maximum(0,Z)\n",
    "    \n",
    "    cache = Z \n",
    "    return A, cache"
   ]
  },
  {
   "cell_type": "code",
   "execution_count": 11,
   "id": "4c79f1bf",
   "metadata": {},
   "outputs": [],
   "source": [
    "Z1, linear_cache = linear_forward(X, parameters[\"W1\"], parameters[\"b1\"]) "
   ]
  },
  {
   "cell_type": "code",
   "execution_count": 12,
   "id": "2e27436b",
   "metadata": {},
   "outputs": [
    {
     "name": "stdout",
     "output_type": "stream",
     "text": [
      "Z1 = [[0.         0.68107272 0.91213289 1.59320561]\n",
      " [0.         0.00558201 0.20965769 0.2152397 ]\n",
      " [0.         0.85385243 0.61977661 1.47362904]\n",
      " [0.         0.78165356 0.02141096 0.80306452]]\n",
      "linear_cache = (array([[0, 0, 1, 1],\n",
      "       [0, 1, 0, 1]]), array([[0.91213289, 0.68107272],\n",
      "       [0.20965769, 0.00558201],\n",
      "       [0.61977661, 0.85385243],\n",
      "       [0.02141096, 0.78165356]]), array([[0.],\n",
      "       [0.],\n",
      "       [0.],\n",
      "       [0.]]))\n"
     ]
    }
   ],
   "source": [
    "print(\"Z1 = \" + str(Z1))\n",
    "print(\"linear_cache = \"+ str(linear_cache))"
   ]
  },
  {
   "cell_type": "code",
   "execution_count": 13,
   "id": "285f9a85",
   "metadata": {},
   "outputs": [],
   "source": [
    "def linear_activation_forward(A_prev, W, b, activation):\n",
    "    Z, linear_cache = linear_forward(A_prev, W, b)\n",
    "    \n",
    "    if activation == \"sigmoid\":\n",
    "        A, activation_cache = sigmoid(Z)\n",
    "    elif activation == \"relu\":\n",
    "        A, activation_cache = relu(Z)\n",
    "    \n",
    "    cache = (linear_cache, activation_cache)\n",
    "    \n",
    "    return A, cache      "
   ]
  },
  {
   "cell_type": "code",
   "execution_count": 14,
   "id": "80c41f71",
   "metadata": {},
   "outputs": [],
   "source": [
    "A, cache = linear_activation_forward(X, parameters[\"W1\"], parameters[\"b1\"], \"sigmoid\")"
   ]
  },
  {
   "cell_type": "code",
   "execution_count": 15,
   "id": "baa80b22",
   "metadata": {},
   "outputs": [
    {
     "name": "stdout",
     "output_type": "stream",
     "text": [
      "[[0.5        0.66397808 0.71343642 0.83106663]\n",
      " [0.5        0.5013955  0.55222327 0.55360314]\n",
      " [0.5        0.70137465 0.65016774 0.81360836]\n",
      " [0.5        0.68603638 0.50535253 0.69062963]] ((array([[0, 0, 1, 1],\n",
      "       [0, 1, 0, 1]]), array([[0.91213289, 0.68107272],\n",
      "       [0.20965769, 0.00558201],\n",
      "       [0.61977661, 0.85385243],\n",
      "       [0.02141096, 0.78165356]]), array([[0.],\n",
      "       [0.],\n",
      "       [0.],\n",
      "       [0.]])), array([[0.        , 0.68107272, 0.91213289, 1.59320561],\n",
      "       [0.        , 0.00558201, 0.20965769, 0.2152397 ],\n",
      "       [0.        , 0.85385243, 0.61977661, 1.47362904],\n",
      "       [0.        , 0.78165356, 0.02141096, 0.80306452]]))\n"
     ]
    }
   ],
   "source": [
    "print(A,cache)"
   ]
  },
  {
   "cell_type": "code",
   "execution_count": 16,
   "id": "4651b07b",
   "metadata": {},
   "outputs": [
    {
     "name": "stdout",
     "output_type": "stream",
     "text": [
      "4\n"
     ]
    }
   ],
   "source": [
    "print(len(parameters)//2)"
   ]
  },
  {
   "cell_type": "code",
   "execution_count": 17,
   "id": "d3a741b3",
   "metadata": {},
   "outputs": [],
   "source": [
    "def L_forward(X, parameters):\n",
    "    L = len(parameters) // 2\n",
    "    A_prev = X\n",
    "    caches = []\n",
    "    for l in range(1, L):\n",
    "        A_prev, cache = linear_activation_forward(A_prev, parameters[\"W\" + str(l)],parameters[\"b\" + str(l)], \"relu\")\n",
    "        caches.append(cache)\n",
    "                                                                                             \n",
    "    AL, cache = linear_activation_forward(A_prev, parameters[\"W\" + str(L)],parameters[\"b\" + str(L)], \"sigmoid\")                                                                               \n",
    "    caches.append(cache)\n",
    "    return AL, caches      "
   ]
  },
  {
   "cell_type": "code",
   "execution_count": 18,
   "id": "ec8b7bbe",
   "metadata": {},
   "outputs": [],
   "source": [
    "AL, caches = L_forward(X, parameters)"
   ]
  },
  {
   "cell_type": "code",
   "execution_count": 19,
   "id": "d33da4c6",
   "metadata": {},
   "outputs": [
    {
     "name": "stdout",
     "output_type": "stream",
     "text": [
      "[[0.5        0.82849221 0.74515469 0.9338823 ]]\n"
     ]
    }
   ],
   "source": [
    "print(AL)"
   ]
  },
  {
   "cell_type": "code",
   "execution_count": 20,
   "id": "e069a0f4",
   "metadata": {},
   "outputs": [
    {
     "data": {
      "text/plain": [
       "((array([[0, 0, 1, 1],\n",
       "         [0, 1, 0, 1]]),\n",
       "  array([[0.91213289, 0.68107272],\n",
       "         [0.20965769, 0.00558201],\n",
       "         [0.61977661, 0.85385243],\n",
       "         [0.02141096, 0.78165356]]),\n",
       "  array([[0.],\n",
       "         [0.],\n",
       "         [0.],\n",
       "         [0.]])),\n",
       " array([[0.        , 0.68107272, 0.91213289, 1.59320561],\n",
       "        [0.        , 0.00558201, 0.20965769, 0.2152397 ],\n",
       "        [0.        , 0.85385243, 0.61977661, 1.47362904],\n",
       "        [0.        , 0.78165356, 0.02141096, 0.80306452]]))"
      ]
     },
     "execution_count": 20,
     "metadata": {},
     "output_type": "execute_result"
    }
   ],
   "source": [
    "caches[0]"
   ]
  },
  {
   "cell_type": "code",
   "execution_count": 21,
   "id": "0d9e1806",
   "metadata": {},
   "outputs": [
    {
     "data": {
      "text/plain": [
       "((array([[0.        , 0.68107272, 0.91213289, 1.59320561],\n",
       "         [0.        , 0.00558201, 0.20965769, 0.2152397 ],\n",
       "         [0.        , 0.85385243, 0.61977661, 1.47362904],\n",
       "         [0.        , 0.78165356, 0.02141096, 0.80306452]]),\n",
       "  array([[0.52603232, 0.48061803, 0.02855018, 0.10841869],\n",
       "         [0.54930832, 0.90060257, 0.26752807, 0.39335893],\n",
       "         [0.05105417, 0.22291466, 0.62026301, 0.58003125]]),\n",
       "  array([[0.],\n",
       "         [0.],\n",
       "         [0.]])),\n",
       " array([[0.        , 0.47007257, 0.60059273, 1.0706653 ],\n",
       "        [0.        , 0.91504598, 0.86409027, 1.77913625],\n",
       "        [0.        , 1.01901248, 0.49014749, 1.50915997]]))"
      ]
     },
     "execution_count": 21,
     "metadata": {},
     "output_type": "execute_result"
    }
   ],
   "source": [
    "caches[1]"
   ]
  },
  {
   "cell_type": "code",
   "execution_count": 22,
   "id": "db18fec6",
   "metadata": {},
   "outputs": [
    {
     "data": {
      "text/plain": [
       "((array([[0.        , 0.47007257, 0.60059273, 1.0706653 ],\n",
       "         [0.        , 0.91504598, 0.86409027, 1.77913625],\n",
       "         [0.        , 1.01901248, 0.49014749, 1.50915997]]),\n",
       "  array([[0.3558408 , 0.19587885, 0.01464743],\n",
       "         [0.09251784, 0.2772128 , 0.94503587],\n",
       "         [0.66074648, 0.91956748, 0.79349694]]),\n",
       "  array([[0.],\n",
       "         [0.],\n",
       "         [0.]])),\n",
       " array([[0.        , 0.36143507, 0.39015181, 0.75158687],\n",
       "        [0.        , 1.2601559 , 0.75830938, 2.01846529],\n",
       "        [0.        , 1.96062861, 1.58035937, 3.54098798]]))"
      ]
     },
     "execution_count": 22,
     "metadata": {},
     "output_type": "execute_result"
    }
   ],
   "source": [
    "caches[2]"
   ]
  },
  {
   "cell_type": "code",
   "execution_count": 23,
   "id": "d5db1b14",
   "metadata": {},
   "outputs": [
    {
     "data": {
      "text/plain": [
       "((array([[0.        , 0.36143507, 0.39015181, 0.75158687],\n",
       "         [0.        , 1.2601559 , 0.75830938, 2.01846529],\n",
       "         [0.        , 1.96062861, 1.58035937, 3.54098798]]),\n",
       "  array([[0.52105509, 0.96358723, 0.08792131]]),\n",
       "  array([[0.]])),\n",
       " array([[0.        , 1.57497876, 1.0729351 , 2.64791386]]))"
      ]
     },
     "execution_count": 23,
     "metadata": {},
     "output_type": "execute_result"
    }
   ],
   "source": [
    "caches[3]"
   ]
  },
  {
   "cell_type": "code",
   "execution_count": 24,
   "id": "d4aeda65",
   "metadata": {},
   "outputs": [
    {
     "data": {
      "text/plain": [
       "4"
      ]
     },
     "execution_count": 24,
     "metadata": {},
     "output_type": "execute_result"
    }
   ],
   "source": [
    "len(caches)"
   ]
  },
  {
   "cell_type": "code",
   "execution_count": 25,
   "id": "f659737e",
   "metadata": {},
   "outputs": [],
   "source": [
    "def compute_cost(AL, Y):\n",
    "    m = AL.shape[1]\n",
    "    cost = (1/m)* (np.dot(Y, np.log(AL).T) + np.dot((1-Y), np.log(1-AL).T))\n",
    "    cost = np.squeeze(cost)\n",
    "    return cost\n",
    "    \n",
    "    "
   ]
  },
  {
   "cell_type": "code",
   "execution_count": 26,
   "id": "19aefc1f",
   "metadata": {},
   "outputs": [],
   "source": [
    "cost = compute_cost(AL, Y)"
   ]
  },
  {
   "cell_type": "code",
   "execution_count": 27,
   "id": "a584a718",
   "metadata": {},
   "outputs": [
    {
     "name": "stdout",
     "output_type": "stream",
     "text": [
      "-0.97294429919082\n"
     ]
    }
   ],
   "source": [
    "print(cost)"
   ]
  },
  {
   "cell_type": "code",
   "execution_count": 28,
   "id": "076352c2",
   "metadata": {},
   "outputs": [],
   "source": [
    "def linear_backward(dZ, linear_cache):\n",
    "    m = Y.shape[1]\n",
    "    A_prev, W, b = linear_cache\n",
    "    \n",
    "    dW = (1/m) * np.dot(dZ, A_prev.T)\n",
    "    db = (1/m) * np.sum(dZ, axis = 1, keepdims = True)\n",
    "    dA_prev = np.dot(W.T, dZ)\n",
    "    return dA_prev, dW, db"
   ]
  },
  {
   "cell_type": "code",
   "execution_count": 29,
   "id": "1a702480",
   "metadata": {},
   "outputs": [],
   "source": [
    "def sigmoid_backward(dA, activation_cache):\n",
    "    Z = activation_cache\n",
    "    s = 1/(1+np.exp(-Z))\n",
    "    dZ = dA * s * (1-s)\n",
    "    \n",
    "    return dZ"
   ]
  },
  {
   "cell_type": "code",
   "execution_count": 30,
   "id": "8ab8c9c1",
   "metadata": {},
   "outputs": [],
   "source": [
    "def relu_backward(dA, activation_cache):\n",
    "    Z = activation_cache\n",
    "    dZ = np.array(dA, copy=True) \n",
    "    dZ[Z <= 0] = 0\n",
    "    \n",
    "    assert (dZ.shape == Z.shape)\n",
    "    return dZ    "
   ]
  },
  {
   "cell_type": "code",
   "execution_count": 31,
   "id": "6b65fa17",
   "metadata": {},
   "outputs": [],
   "source": [
    "def linear_activation_backward(dA, cache, activation):\n",
    "    linear_cache,activation_cache = cache\n",
    "    if activation == \"sigmoid\":\n",
    "        dZ = sigmoid_backward(dA, activation_cache)\n",
    "    elif activation == \"relu\":\n",
    "        dZ = relu_backward(dA, activation_cache)\n",
    "    \n",
    "    dA_prev, dW, db = linear_backward(dZ, linear_cache)\n",
    "    return dA_prev, dW, db"
   ]
  },
  {
   "cell_type": "code",
   "execution_count": 32,
   "id": "db91d824",
   "metadata": {},
   "outputs": [],
   "source": [
    "def L_model_backward(AL, Y, caches):\n",
    "    m = AL.shape[1]\n",
    "    L = len(caches)\n",
    "    grads = {}\n",
    "    dAL = - (np.divide(Y, AL) - np.divide(1 - Y, 1 - AL))\n",
    "    current_cache = caches[L-1]\n",
    "    grads[\"dA\" + str(L-1)], grads[\"dW\" + str(L)], grads[\"db\" + str(L)] = linear_activation_backward(dAL, current_cache, \"sigmoid\")\n",
    "    \n",
    "    for l in reversed(range(L-1)):\n",
    "        current_cache = caches[l]\n",
    "        dA_prev_temp, dW_temp, db_temp = linear_activation_backward(grads[\"dA\" + str(l + 1)], current_cache, \"relu\")\n",
    "        grads[\"dA\" + str(l)] = dA_prev_temp\n",
    "        grads[\"dW\" + str(l + 1)] = dW_temp\n",
    "        grads[\"db\" + str(l + 1)] = db_temp\n",
    "    return grads    "
   ]
  },
  {
   "cell_type": "code",
   "execution_count": 33,
   "id": "f30e0df0",
   "metadata": {},
   "outputs": [],
   "source": [
    "grads = L_model_backward(AL, Y, caches)"
   ]
  },
  {
   "cell_type": "code",
   "execution_count": 34,
   "id": "b2a01a88",
   "metadata": {},
   "outputs": [
    {
     "name": "stdout",
     "output_type": "stream",
     "text": [
      "{'dA3': array([[ 0.26052755, -0.08936501, -0.13278845,  0.48660413],\n",
      "       [ 0.48179361, -0.16526271, -0.24556569,  0.89987705],\n",
      "       [ 0.04396066, -0.01507919, -0.02240633,  0.08210816]]), 'dW4': array([[0.1351191 , 0.36890771, 0.64196393]]), 'db4': array([[0.2518823]]), 'dA2': array([[ 0.        , -0.05705299, -0.08477566,  0.31066096],\n",
      "       [ 0.        , -0.07718399, -0.11468854,  0.42027689],\n",
      "       [ 0.        , -0.16945345, -0.25179275,  0.92269617]]), 'dW3': array([[0.09980758, 0.16730519, 0.14455337],\n",
      "       [0.18457418, 0.3093975 , 0.26732256],\n",
      "       [0.01684124, 0.02823059, 0.02439151]]), 'db3': array([[0.06611267],\n",
      "       [0.12226216],\n",
      "       [0.01115566]]), 'dA1': array([[ 0.        , -0.08106083, -0.12044917,  0.44138678],\n",
      "       [ 0.        , -0.13470645, -0.2001618 ,  0.7334942 ],\n",
      "       [ 0.        , -0.12738346, -0.18928049,  0.69361959],\n",
      "       [ 0.        , -0.13483492, -0.20035269,  0.73419373]]), 'dW2': array([[0.09469072, 0.01219356, 0.08913555, 0.0507675 ],\n",
      "       [0.1281021 , 0.01649602, 0.1205868 , 0.06868068],\n",
      "       [0.28124153, 0.03621617, 0.26474209, 0.15078488]]), 'db2': array([[0.04220808],\n",
      "       [0.05710109],\n",
      "       [0.12536249]]), 'dA0': array([[ 0.        , -0.18401672, -0.27343248,  1.00199509],\n",
      "       [ 0.        , -0.27012112, -0.40137595,  1.47084478]]), 'dW1': array([[0.0802344 , 0.09008149],\n",
      "       [0.1333331 , 0.14969694],\n",
      "       [0.12608477, 0.14155903],\n",
      "       [0.13346026, 0.1498397 ]]), 'db1': array([[0.05996919],\n",
      "       [0.09965649],\n",
      "       [0.09423891],\n",
      "       [0.09975153]])}\n"
     ]
    }
   ],
   "source": [
    "print(grads)"
   ]
  },
  {
   "cell_type": "code",
   "execution_count": 35,
   "id": "356d4961",
   "metadata": {},
   "outputs": [],
   "source": [
    "def update_parameters(parameters, grads, learning_rate):\n",
    "    L = len(parameters) //2\n",
    "    for l in range(L):\n",
    "        parameters[\"W\" + str(l+1)] = parameters[\"W\" + str(l+1)] - (learning_rate * grads[\"dW\" + str(l+1)])\n",
    "        parameters[\"b\" + str(l+1)] = parameters[\"b\" + str(l+1)] - (learning_rate * grads[\"db\" + str(l+1)])\n",
    "    return parameters\n",
    "                                                              "
   ]
  },
  {
   "cell_type": "code",
   "execution_count": 36,
   "id": "019ce2bb",
   "metadata": {},
   "outputs": [],
   "source": [
    "parameters = update_parameters(parameters, grads, 0.01)"
   ]
  },
  {
   "cell_type": "code",
   "execution_count": 37,
   "id": "12a7bc89",
   "metadata": {},
   "outputs": [
    {
     "name": "stdout",
     "output_type": "stream",
     "text": [
      "{'W1': array([[0.91133054, 0.68017191],\n",
      "       [0.20832436, 0.00408504],\n",
      "       [0.61851576, 0.85243684],\n",
      "       [0.02007636, 0.78015516]]), 'b1': array([[-0.00059969],\n",
      "       [-0.00099656],\n",
      "       [-0.00094239],\n",
      "       [-0.00099752]]), 'W2': array([[0.52508541, 0.48049609, 0.02765882, 0.10791102],\n",
      "       [0.54802729, 0.90043761, 0.26632221, 0.39267212],\n",
      "       [0.04824175, 0.2225525 , 0.61761559, 0.5785234 ]]), 'b2': array([[-0.00042208],\n",
      "       [-0.00057101],\n",
      "       [-0.00125362]]), 'W3': array([[0.35484273, 0.19420579, 0.0132019 ],\n",
      "       [0.0906721 , 0.27411883, 0.94236264],\n",
      "       [0.66057806, 0.91928517, 0.79325303]]), 'b3': array([[-0.00066113],\n",
      "       [-0.00122262],\n",
      "       [-0.00011156]]), 'W4': array([[0.5197039 , 0.95989815, 0.08150167]]), 'b4': array([[-0.00251882]])}\n"
     ]
    }
   ],
   "source": [
    "print(parameters)"
   ]
  },
  {
   "cell_type": "code",
   "execution_count": 38,
   "id": "fa00cca8",
   "metadata": {},
   "outputs": [],
   "source": [
    "def deep_model(X, Y, layer_dims, num_iterations, learning_rate):\n",
    "    parameters = initialize_parameters_deep(layer_dims)\n",
    "    costs = []\n",
    "    \n",
    "    for i in range(num_iterations):\n",
    "        AL, caches = L_forward(X, parameters)\n",
    "        \n",
    "        cost = compute_cost(AL, Y)\n",
    "        \n",
    "        grads = L_model_backward(AL, Y, caches)\n",
    "        \n",
    "        parameters = update_parameters(parameters, grads, learning_rate)\n",
    "        \n",
    "        if i % 100 == 0:\n",
    "            costs.append(cost)\n",
    "    costs = np.squeeze(costs)        \n",
    "    print(\"costs are = \" + str(costs))        \n",
    "        \n",
    "    return parameters    \n",
    "    \n",
    "        "
   ]
  },
  {
   "cell_type": "code",
   "execution_count": 39,
   "id": "4fb0dfad",
   "metadata": {
    "scrolled": true
   },
   "outputs": [
    {
     "name": "stdout",
     "output_type": "stream",
     "text": [
      "costs are = [-1.25543838 -0.19408824 -0.07980705 -0.04790789 -0.03371379 -0.02590314\n",
      " -0.0209523  -0.01756866 -0.0150987  -0.01323469 -0.01179204 -0.01060331\n",
      " -0.00964039 -0.00883409 -0.00814998 -0.00756421 -0.00705673 -0.00661175\n",
      " -0.00621983 -0.00587192]\n"
     ]
    }
   ],
   "source": [
    "parameters = deep_model(X, Y, layer_dims, 2000, 0.1)"
   ]
  },
  {
   "cell_type": "code",
   "execution_count": 40,
   "id": "255c573a",
   "metadata": {},
   "outputs": [
    {
     "name": "stdout",
     "output_type": "stream",
     "text": [
      "[[0.01085098 0.99980113 0.99978185 0.01085098]]\n"
     ]
    }
   ],
   "source": [
    "AL, caches = L_forward(X, parameters)\n",
    "print(AL)"
   ]
  },
  {
   "cell_type": "code",
   "execution_count": 41,
   "id": "01116942",
   "metadata": {},
   "outputs": [],
   "source": [
    "for i in range(AL.shape[1]):\n",
    "    if AL[0][i] > 0.5:\n",
    "        AL[0][i] = 1\n",
    "    else:\n",
    "        AL[0][i] = 0\n",
    "        "
   ]
  },
  {
   "cell_type": "code",
   "execution_count": 42,
   "id": "d9b836ff",
   "metadata": {},
   "outputs": [
    {
     "name": "stdout",
     "output_type": "stream",
     "text": [
      "[[0. 1. 1. 0.]] [[0 1 1 0]]\n"
     ]
    }
   ],
   "source": [
    "print(AL,Y)"
   ]
  }
 ],
 "metadata": {
  "kernelspec": {
   "display_name": "Python 3 (ipykernel)",
   "language": "python",
   "name": "python3"
  },
  "language_info": {
   "codemirror_mode": {
    "name": "ipython",
    "version": 3
   },
   "file_extension": ".py",
   "mimetype": "text/x-python",
   "name": "python",
   "nbconvert_exporter": "python",
   "pygments_lexer": "ipython3",
   "version": "3.10.0"
  }
 },
 "nbformat": 4,
 "nbformat_minor": 5
}
